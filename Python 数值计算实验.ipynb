{
 "cells": [
  {
   "cell_type": "markdown",
   "metadata": {},
   "source": [
    "# Python 数值计算实验\n",
    "\n",
    "## 简单例"
   ]
  },
  {
   "cell_type": "markdown",
   "metadata": {},
   "source": [
    "获得Python版本号及详細信息"
   ]
  },
  {
   "cell_type": "code",
   "execution_count": 1,
   "metadata": {},
   "outputs": [
    {
     "name": "stdout",
     "output_type": "stream",
     "text": [
      "3.7.4\n"
     ]
    }
   ],
   "source": [
    "import platform\n",
    "print(platform.python_version())"
   ]
  },
  {
   "cell_type": "code",
   "execution_count": 2,
   "metadata": {},
   "outputs": [
    {
     "name": "stdout",
     "output_type": "stream",
     "text": [
      "3.7.4 (tags/v3.7.4:e09359112e, Jul  8 2019, 20:34:20) [MSC v.1916 64 bit (AMD64)]\n",
      "sys.version_info(major=3, minor=7, micro=4, releaselevel='final', serial=0)\n"
     ]
    }
   ],
   "source": [
    "import sys\n",
    "print(sys.version)\n",
    "print (sys.version_info)"
   ]
  },
  {
   "cell_type": "markdown",
   "metadata": {},
   "source": [
    "### print\n",
    "\n",
    "- `print`输出后是换行的。如果需要抑制换行，可用`end=\"\"`。\n",
    "- 与C语言一样，可用`\\`进行转义。`\\n`表示换行。所以，`print(i)`相当于`print(i, end=\"\\n\")`\n",
    "- java和julia中，对应`println()`，而C中的`printf()`函数是不带换行的。"
   ]
  },
  {
   "cell_type": "code",
   "execution_count": 3,
   "metadata": {
    "scrolled": true
   },
   "outputs": [
    {
     "name": "stdout",
     "output_type": "stream",
     "text": [
      "1\n",
      "2ABC\n"
     ]
    }
   ],
   "source": [
    "print(1)\n",
    "print(2, end=\"\")\n",
    "print(\"ABC\")\n"
   ]
  },
  {
   "cell_type": "code",
   "execution_count": 4,
   "metadata": {
    "scrolled": true
   },
   "outputs": [
    {
     "name": "stdout",
     "output_type": "stream",
     "text": [
      "1;2;3;\n",
      "3\n",
      "1\n",
      "2\n"
     ]
    }
   ],
   "source": [
    "for i in [1, 2, 3]:\n",
    "    print(i, end=\";\")  # 行尾加分号，不换行\n",
    "\n",
    "print()  # 换行\n",
    "\n",
    "for i in [3, 1, 2]:\n",
    "    print(i, end=\"\\n\")  # 等价于 print(i)"
   ]
  },
  {
   "cell_type": "markdown",
   "metadata": {},
   "source": [
    "用 help 查看 print 帮助。"
   ]
  },
  {
   "cell_type": "code",
   "execution_count": 5,
   "metadata": {},
   "outputs": [
    {
     "name": "stdout",
     "output_type": "stream",
     "text": [
      "Help on built-in function print in module builtins:\n",
      "\n",
      "print(...)\n",
      "    print(value, ..., sep=' ', end='\\n', file=sys.stdout, flush=False)\n",
      "    \n",
      "    Prints the values to a stream, or to sys.stdout by default.\n",
      "    Optional keyword arguments:\n",
      "    file:  a file-like object (stream); defaults to the current sys.stdout.\n",
      "    sep:   string inserted between values, default a space.\n",
      "    end:   string appended after the last value, default a newline.\n",
      "    flush: whether to forcibly flush the stream.\n",
      "\n"
     ]
    }
   ],
   "source": [
    "help(print)"
   ]
  },
  {
   "cell_type": "markdown",
   "metadata": {},
   "source": [
    "### 计算函数并作图"
   ]
  },
  {
   "cell_type": "code",
   "execution_count": 6,
   "metadata": {
    "scrolled": false
   },
   "outputs": [
    {
     "data": {
      "text/plain": [
       "<Figure size 640x480 with 1 Axes>"
      ]
     },
     "metadata": {},
     "output_type": "display_data"
    }
   ],
   "source": [
    "import numpy as np\n",
    "import matplotlib.pyplot as plt\n",
    "#约定俗成的写法plt\n",
    "#首先定义两个函数（正弦&余弦）\n",
    "\n",
    "X=np.linspace(-np.pi,np.pi,256)#-π to+π的256个值\n",
    "plt.plot(X,np.cos(X))\n",
    "#在ipython的交互环境中需要这句话才能显示出来\n",
    "plt.show()"
   ]
  },
  {
   "cell_type": "markdown",
   "metadata": {},
   "source": [
    "### 注释、查询帮助、变量信息\n",
    "\n",
    "- 注释： 单行用 `#`  ，多行用 `\"\"\"`或`'''`包裹。\n",
    "- 帮助：查函数的帮助文档用 `help(函数名)`、`help(模块名.函数名)`\n",
    "- 查变量的数据类型用 `type(变量名)`\n"
   ]
  },
  {
   "cell_type": "code",
   "execution_count": 7,
   "metadata": {},
   "outputs": [
    {
     "name": "stdout",
     "output_type": "stream",
     "text": [
      "Help on function show in module matplotlib.pyplot:\n",
      "\n",
      "show(*args, **kw)\n",
      "    Display a figure.\n",
      "    \n",
      "    When running in ipython with its pylab mode, display all\n",
      "    figures and return to the ipython prompt.\n",
      "    \n",
      "    In non-interactive mode, display all figures and block until\n",
      "    the figures have been closed; in interactive mode it has no\n",
      "    effect unless figures were created prior to a change from\n",
      "    non-interactive to interactive mode (not recommended).  In\n",
      "    that case it displays the figures but does not block.\n",
      "    \n",
      "    A single experimental keyword argument, *block*, may be\n",
      "    set to True or False to override the blocking behavior\n",
      "    described above.\n",
      "\n"
     ]
    }
   ],
   "source": [
    "help(plt.show)"
   ]
  },
  {
   "cell_type": "code",
   "execution_count": 8,
   "metadata": {},
   "outputs": [
    {
     "data": {
      "text/plain": [
       "numpy.ndarray"
      ]
     },
     "execution_count": 8,
     "metadata": {},
     "output_type": "execute_result"
    }
   ],
   "source": [
    "type(X)\n"
   ]
  },
  {
   "cell_type": "markdown",
   "metadata": {},
   "source": [
    "- 自编函数或模块的帮助\n",
    "\n",
    "置于函数或模块名称之下，以三对双引号作多行注释的文字，可用`help`进行查看。\n",
    "如下。"
   ]
  },
  {
   "cell_type": "code",
   "execution_count": 9,
   "metadata": {
    "code_folding": []
   },
   "outputs": [
    {
     "data": {
      "text/plain": [
       "3.2"
      ]
     },
     "execution_count": 9,
     "metadata": {},
     "output_type": "execute_result"
    }
   ],
   "source": [
    "def add(x,y):\n",
    "    \"\"\"\n",
    "    [函数名] add\n",
    "    [功能]   两数相加\n",
    "    这里写帮助信息...\n",
    "    some help txt...\n",
    "    \n",
    "    [调用例]：\n",
    "    >>> b=add(1,2)\n",
    "    3\n",
    "    \"\"\"\n",
    "    return x+y\n",
    "\n",
    "add(1,2.2)"
   ]
  },
  {
   "cell_type": "code",
   "execution_count": 10,
   "metadata": {
    "scrolled": false
   },
   "outputs": [
    {
     "name": "stdout",
     "output_type": "stream",
     "text": [
      "Help on function add in module __main__:\n",
      "\n",
      "add(x, y)\n",
      "    [函数名] add\n",
      "    [功能]   两数相加\n",
      "    这里写帮助信息...\n",
      "    some help txt...\n",
      "    \n",
      "    [调用例]：\n",
      "    >>> b=add(1,2)\n",
      "    3\n",
      "\n"
     ]
    }
   ],
   "source": [
    "# 用 help 查看帮助。\n",
    "help(add)"
   ]
  },
  {
   "cell_type": "markdown",
   "metadata": {},
   "source": [
    "## 常用语法\n",
    "\n",
    "### Python的关键字\n",
    "\n",
    "- 导入 `keyword` 包可列出来看，也可检查某字是否是关键字。关键字是python保留的，不要在编程中做变量名等用。"
   ]
  },
  {
   "cell_type": "code",
   "execution_count": 11,
   "metadata": {},
   "outputs": [
    {
     "data": {
      "text/plain": [
       "['False',\n",
       " 'None',\n",
       " 'True',\n",
       " 'and',\n",
       " 'as',\n",
       " 'assert',\n",
       " 'async',\n",
       " 'await',\n",
       " 'break',\n",
       " 'class',\n",
       " 'continue',\n",
       " 'def',\n",
       " 'del',\n",
       " 'elif',\n",
       " 'else',\n",
       " 'except',\n",
       " 'finally',\n",
       " 'for',\n",
       " 'from',\n",
       " 'global',\n",
       " 'if',\n",
       " 'import',\n",
       " 'in',\n",
       " 'is',\n",
       " 'lambda',\n",
       " 'nonlocal',\n",
       " 'not',\n",
       " 'or',\n",
       " 'pass',\n",
       " 'raise',\n",
       " 'return',\n",
       " 'try',\n",
       " 'while',\n",
       " 'with',\n",
       " 'yield']"
      ]
     },
     "execution_count": 11,
     "metadata": {},
     "output_type": "execute_result"
    }
   ],
   "source": [
    "import keyword\n",
    "keyword.kwlist"
   ]
  },
  {
   "cell_type": "markdown",
   "metadata": {},
   "source": [
    "### 数的类型\n",
    "\n",
    "- 整型\n",
    "- 长整\n",
    "- 浮点\n",
    "- 复数: 用`j`表示虚数单位$\\sqrt{-1}$\n",
    "- 布尔\n",
    "- ...\n",
    "\n",
    "例如："
   ]
  },
  {
   "cell_type": "code",
   "execution_count": 12,
   "metadata": {},
   "outputs": [
    {
     "data": {
      "text/plain": [
       "complex"
      ]
     },
     "execution_count": 12,
     "metadata": {},
     "output_type": "execute_result"
    }
   ],
   "source": [
    "A=3+4j\n",
    "B=1+4j\n",
    "C=A*B\n",
    "C\n",
    "type(C)"
   ]
  },
  {
   "cell_type": "code",
   "execution_count": 13,
   "metadata": {},
   "outputs": [
    {
     "data": {
      "text/plain": [
       "bool"
      ]
     },
     "execution_count": 13,
     "metadata": {},
     "output_type": "execute_result"
    }
   ],
   "source": [
    "b=True\n",
    "type(b)"
   ]
  },
  {
   "cell_type": "markdown",
   "metadata": {},
   "source": [
    "### 变量和赋值\n",
    "\n",
    "- 变量不用声明。（与matlab、julia等相似）\n",
    "\n",
    "Python的标准数据类型概述\n",
    "\n",
    "- 数字 number：整型、浮点、布尔、复数\n",
    "- 字符串 string：用单引号或双引号标记。以`\\`转义。（注意C语言中单引与双引不同）\n",
    "- 列表 list： 写在`[ ]`之间，元素用逗号 `,`分开。list中的元素可修改。\n",
    "- 元组 tuple：与在小括号`( )`之间。与list相似，但tuple中元素不可修改。\n",
    "- 集合 set：是无序且不重复的元素集，用`set()`函数创建.\n",
    "- 字典 dictionary: 是一个无序的\"键:值\"对的集合,用`{ , , }`创建.\n",
    "\n",
    "赋值\n",
    "\n",
    "python的赋值有特色,可以多个变量一同赋值, 例如:"
   ]
  },
  {
   "cell_type": "code",
   "execution_count": 14,
   "metadata": {},
   "outputs": [
    {
     "name": "stdout",
     "output_type": "stream",
     "text": [
      "6\n",
      "5\n",
      "4\n",
      "[3, 'yes']\n"
     ]
    }
   ],
   "source": [
    "x1, x2, x3, y = 6, 5, 4, [3, 'yes']\n",
    "print(x1, x2, x3, y, sep=\"\\n\")  # 注意 sep=\"\\n\" 使打印以换行作为分隔"
   ]
  },
  {
   "cell_type": "markdown",
   "metadata": {},
   "source": [
    "### 数的基本运算\n",
    "\n",
    "加, 减, 乘, 除, 余, 乘方. 支持复数计算.\n"
   ]
  },
  {
   "cell_type": "code",
   "execution_count": 15,
   "metadata": {},
   "outputs": [
    {
     "data": {
      "text/plain": [
       "-3.0"
      ]
     },
     "execution_count": 15,
     "metadata": {},
     "output_type": "execute_result"
    }
   ],
   "source": [
    "a = 1 + 2 - 3 * 4  # a = -9\n",
    "a = a / 3  # a=-3.0 除法 / 得到浮点数\n",
    "a"
   ]
  },
  {
   "cell_type": "code",
   "execution_count": 16,
   "metadata": {},
   "outputs": [
    {
     "data": {
      "text/plain": [
       "1.0"
      ]
     },
     "execution_count": 16,
     "metadata": {},
     "output_type": "execute_result"
    }
   ],
   "source": [
    "a = 3.23 // 2  # 除法 // 得到的值小数部分为零\n",
    "a"
   ]
  },
  {
   "cell_type": "code",
   "execution_count": 17,
   "metadata": {},
   "outputs": [
    {
     "data": {
      "text/plain": [
       "(14.378246786304807-5.364081915890475j)"
      ]
     },
     "execution_count": 17,
     "metadata": {},
     "output_type": "execute_result"
    }
   ],
   "source": [
    "# 乘方用两个`*`表示. 支持复数计算.\n",
    "(5 + 2j)**(2.3 + 3j)"
   ]
  },
  {
   "cell_type": "markdown",
   "metadata": {},
   "source": [
    "计算 $\\frac{1}{2^{1/5}}$"
   ]
  },
  {
   "cell_type": "code",
   "execution_count": 18,
   "metadata": {},
   "outputs": [
    {
     "data": {
      "text/plain": [
       "0.8705505632961241"
      ]
     },
     "execution_count": 18,
     "metadata": {},
     "output_type": "execute_result"
    }
   ],
   "source": [
    "# 开方也是乘方, 混合计算时将把整型转换为浮点数\n",
    "2**(-1/5)"
   ]
  },
  {
   "cell_type": "markdown",
   "metadata": {},
   "source": [
    "### 字符串\n",
    "\n",
    "- 使用 `len()` 计算串长度"
   ]
  },
  {
   "cell_type": "code",
   "execution_count": 19,
   "metadata": {},
   "outputs": [
    {
     "name": "stdout",
     "output_type": "stream",
     "text": [
      "hello world\n",
      "<class 'str'>\n",
      "11\n"
     ]
    }
   ],
   "source": [
    "s1='hello world'\n",
    "print(s1,type(s1),len(s1),sep='\\n')\n",
    "# s3=s1+s2  #\n",
    "# "
   ]
  },
  {
   "cell_type": "markdown",
   "metadata": {},
   "source": [
    "- 用`+`连接串, 用`*`表示串重复."
   ]
  },
  {
   "cell_type": "code",
   "execution_count": 20,
   "metadata": {},
   "outputs": [
    {
     "name": "stdout",
     "output_type": "stream",
     "text": [
      "4\n",
      "hello world我的世界\n",
      "hello world我的世界hello world我的世界\n"
     ]
    }
   ],
   "source": [
    "s2='我的世界'\n",
    "s3=s1+s2\n",
    "s4=s3*2\n",
    "print(len(s2),s3, s4, sep='\\n') # 注意汉字串的长度"
   ]
  },
  {
   "cell_type": "markdown",
   "metadata": {},
   "source": [
    "- 从字串中切片\n",
    "\n",
    "```\n",
    "[:] 表示全部缩引.\n",
    "[2:10] 表示从2到9(不含10)\n",
    "[-2] 表示倒数第2个.\n",
    "```\n"
   ]
  },
  {
   "cell_type": "code",
   "execution_count": 21,
   "metadata": {},
   "outputs": [
    {
     "name": "stdout",
     "output_type": "stream",
     "text": [
      "llo worl 世界 的\n"
     ]
    }
   ],
   "source": [
    "print(s4[2:10], s4[13:15], s4[12])"
   ]
  },
  {
   "cell_type": "markdown",
   "metadata": {},
   "source": [
    "- 反序"
   ]
  },
  {
   "cell_type": "code",
   "execution_count": 22,
   "metadata": {},
   "outputs": [
    {
     "name": "stdout",
     "output_type": "stream",
     "text": [
      "界世的\n"
     ]
    }
   ],
   "source": [
    "print(s4[-1] + s4[-2] + s4[-3])"
   ]
  },
  {
   "cell_type": "markdown",
   "metadata": {},
   "source": [
    "- 'str'对象不支持元素的重新赋值."
   ]
  },
  {
   "cell_type": "code",
   "execution_count": 23,
   "metadata": {
    "scrolled": true
   },
   "outputs": [
    {
     "ename": "NameError",
     "evalue": "name 's' is not defined",
     "output_type": "error",
     "traceback": [
      "\u001b[1;31m---------------------------------------------------------------------------\u001b[0m",
      "\u001b[1;31mNameError\u001b[0m                                 Traceback (most recent call last)",
      "\u001b[1;32m<ipython-input-23-f702e31ca78e>\u001b[0m in \u001b[0;36m<module>\u001b[1;34m\u001b[0m\n\u001b[1;32m----> 1\u001b[1;33m \u001b[0ms\u001b[0m\u001b[1;33m[\u001b[0m\u001b[1;36m2\u001b[0m\u001b[1;33m]\u001b[0m \u001b[1;33m=\u001b[0m \u001b[1;34m'r'\u001b[0m\u001b[1;33m\u001b[0m\u001b[1;33m\u001b[0m\u001b[0m\n\u001b[0m",
      "\u001b[1;31mNameError\u001b[0m: name 's' is not defined"
     ]
    }
   ],
   "source": [
    "s[2] = 'r'"
   ]
  },
  {
   "cell_type": "markdown",
   "metadata": {},
   "source": [
    "### 列表 list "
   ]
  },
  {
   "cell_type": "markdown",
   "metadata": {},
   "source": [
    "- 列表中的元素可以是多种类型的."
   ]
  },
  {
   "cell_type": "code",
   "execution_count": null,
   "metadata": {},
   "outputs": [],
   "source": [
    "a = ['score', 65, 70, 'good']\n",
    "a[0]"
   ]
  },
  {
   "cell_type": "markdown",
   "metadata": {},
   "source": [
    "- 列表串连计算"
   ]
  },
  {
   "cell_type": "code",
   "execution_count": null,
   "metadata": {},
   "outputs": [],
   "source": [
    "a = [1,2,3]\n",
    "a+[7,8]  # + 表示列表串连"
   ]
  },
  {
   "cell_type": "markdown",
   "metadata": {},
   "source": [
    "- 列表中的元素是可赋值的."
   ]
  },
  {
   "cell_type": "code",
   "execution_count": null,
   "metadata": {},
   "outputs": [],
   "source": [
    "a[0] = 99\n",
    "a"
   ]
  },
  {
   "cell_type": "markdown",
   "metadata": {},
   "source": [
    "- 删除元素"
   ]
  },
  {
   "cell_type": "code",
   "execution_count": null,
   "metadata": {
    "scrolled": true
   },
   "outputs": [],
   "source": [
    "del a  # 可以用del 删除变量\n",
    "a =[1,2,3,4,5,6]\n",
    "a[0:3]=[] # 删掉第1,2,3 元素\n",
    "print(a)"
   ]
  },
  {
   "cell_type": "markdown",
   "metadata": {},
   "source": [
    "- list 还有 append()和pop()等方法."
   ]
  },
  {
   "cell_type": "code",
   "execution_count": null,
   "metadata": {},
   "outputs": [],
   "source": [
    "a = [1,2,3,4]\n",
    "a.append(['n', 5, 6])\n",
    "a"
   ]
  },
  {
   "cell_type": "code",
   "execution_count": null,
   "metadata": {},
   "outputs": [],
   "source": [
    "a = [1,2,3,4]\n",
    "a.pop(-1) # pop(下标)\n",
    "a"
   ]
  },
  {
   "cell_type": "markdown",
   "metadata": {},
   "source": [
    "### 元组 tuple"
   ]
  },
  {
   "cell_type": "markdown",
   "metadata": {},
   "source": [
    "- 元组采用小括号.\n",
    "- 元组中的元素不可修改."
   ]
  },
  {
   "cell_type": "code",
   "execution_count": null,
   "metadata": {
    "scrolled": true
   },
   "outputs": [],
   "source": [
    "tup = (1, 2, 3, 4, 5)\n",
    "print(tup)\n",
    "print(tup[3])\n",
    "tup[3] = 4 # 这句非法"
   ]
  },
  {
   "cell_type": "markdown",
   "metadata": {},
   "source": [
    "- 但元组内部包括的列表, 列表中的元素却是可修改的."
   ]
  },
  {
   "cell_type": "code",
   "execution_count": null,
   "metadata": {},
   "outputs": [],
   "source": [
    "t = (1,2,3,4,[2,3])\n",
    "print(t)\n",
    "t[4][0]=4\n",
    "print(t)"
   ]
  },
  {
   "cell_type": "code",
   "execution_count": null,
   "metadata": {},
   "outputs": [],
   "source": [
    "a = ()  # 空元组\n",
    "a"
   ]
  },
  {
   "cell_type": "code",
   "execution_count": null,
   "metadata": {},
   "outputs": [],
   "source": [
    "a = (20,) # 一个元素组成的元组\n",
    "a"
   ]
  },
  {
   "cell_type": "markdown",
   "metadata": {},
   "source": [
    "### 集合 set\n",
    "\n",
    "- 用set()函数或`{ }`创建集合. 但空集必须用set()创建. 因为`{}`是用来创建空字典的.\n",
    "- 集合中元素是无顺序的. 列表或元组中的元素则是有顺序的.\n",
    "- 集合中重复的元素会自动去掉."
   ]
  },
  {
   "cell_type": "code",
   "execution_count": null,
   "metadata": {},
   "outputs": [],
   "source": [
    "stu = {'Tom', 'Kim', 'Xi', 'Mary', 'Kim'}\n",
    "print(stu) #集合中重复的元素会自动去掉  Kim"
   ]
  },
  {
   "cell_type": "code",
   "execution_count": null,
   "metadata": {},
   "outputs": [],
   "source": [
    "'Tom' in stu # 用 in 进行成员测试"
   ]
  },
  {
   "cell_type": "code",
   "execution_count": null,
   "metadata": {},
   "outputs": [],
   "source": [
    "# 用 set 创建集合, set() 创建空集\n",
    "s = set('123abc')\n",
    "s"
   ]
  },
  {
   "cell_type": "code",
   "execution_count": null,
   "metadata": {},
   "outputs": [],
   "source": [
    "# 集合的运算\n",
    "s1 = set('12345ab')\n",
    "s2 = set('abcd')\n",
    "s1 | s2   # 求并集"
   ]
  },
  {
   "cell_type": "code",
   "execution_count": null,
   "metadata": {},
   "outputs": [],
   "source": [
    "s1 & s2 # 求交集"
   ]
  },
  {
   "cell_type": "code",
   "execution_count": null,
   "metadata": {},
   "outputs": [],
   "source": [
    "s1 - s2 # 求差集(从s1中扣掉s2中的元素"
   ]
  },
  {
   "cell_type": "code",
   "execution_count": null,
   "metadata": {},
   "outputs": [],
   "source": [
    "s1 ^ s2  # 求s1和s2中不同时存在的元素"
   ]
  },
  {
   "cell_type": "markdown",
   "metadata": {},
   "source": [
    "### 字典\n",
    "\n",
    "- 用`{}`创建空字典\n",
    "- 字典中关键字(key)要互不相同\n",
    "- 关键字在创建后是不可变的,所以list类型不可做字典的key.\n",
    "- 字典的元素是关键字:值(key:value),以冒号分开.\n",
    "- 通过key对字典进行查询"
   ]
  },
  {
   "cell_type": "code",
   "execution_count": null,
   "metadata": {},
   "outputs": [],
   "source": [
    "D ={1:34, 2:75, 3:128}\n",
    "D[2]"
   ]
  },
  {
   "cell_type": "code",
   "execution_count": null,
   "metadata": {},
   "outputs": [],
   "source": [
    "# python 允许用unicode字符做变量, 但为了兼容性我不推荐使用\n",
    "\n",
    "电话本 = {'w王强': 13577, 'z张乙': 13888, 'l刘清': '没电话'}\n",
    "\n",
    "print(电话本)"
   ]
  },
  {
   "cell_type": "code",
   "execution_count": null,
   "metadata": {},
   "outputs": [],
   "source": [
    "print(电话本['l刘清'], 电话本['z张乙'])"
   ]
  },
  {
   "cell_type": "code",
   "execution_count": null,
   "metadata": {},
   "outputs": [],
   "source": [
    "# 删除字典的一个键对\n",
    "del 电话本['l刘清']\n",
    "电话本"
   ]
  },
  {
   "cell_type": "code",
   "execution_count": null,
   "metadata": {},
   "outputs": [],
   "source": [
    "# 向字典增加一的键对\n",
    "电话本['s邵玉斌']=13577031571\n",
    "电话本"
   ]
  },
  {
   "cell_type": "code",
   "execution_count": null,
   "metadata": {},
   "outputs": [],
   "source": [
    "# 返回字典的所有关键字,并组成一个列表\n",
    "list(电话本.keys())"
   ]
  },
  {
   "cell_type": "code",
   "execution_count": null,
   "metadata": {},
   "outputs": [],
   "source": [
    "# key 排序\n",
    "sorted(电话本.keys())"
   ]
  },
  {
   "cell_type": "code",
   "execution_count": null,
   "metadata": {},
   "outputs": [],
   "source": [
    "# 返回字典的所有值,并组成一个列表\n",
    "list(电话本.values())"
   ]
  },
  {
   "cell_type": "markdown",
   "metadata": {},
   "source": [
    "### 控制语句 if\n",
    "\n",
    "- if...elif...else\n",
    "- 每一条件后用冒号`:`\n",
    "- 注意,用elif, 不是else if\n",
    "- if 用缩进来划分语块\n",
    "- python 中没有case switch 语句.\n"
   ]
  },
  {
   "cell_type": "code",
   "execution_count": null,
   "metadata": {
    "code_folding": []
   },
   "outputs": [],
   "source": [
    "age = 10\n",
    "if age > 10:\n",
    "    print('old')\n",
    "elif age <= 10:\n",
    "    print('young')"
   ]
  },
  {
   "cell_type": "markdown",
   "metadata": {},
   "source": [
    "### 循环语句 while和for\n",
    "\n",
    "#### while\n",
    "\n",
    "```\n",
    "while 条件 :\n",
    "    语句\n",
    "    语句\n",
    "\n",
    "```\n"
   ]
  },
  {
   "cell_type": "code",
   "execution_count": null,
   "metadata": {},
   "outputs": [],
   "source": [
    "c = 0\n",
    "while c < 10:\n",
    "    print(c, end='; ')\n",
    "    c += 1"
   ]
  },
  {
   "cell_type": "markdown",
   "metadata": {},
   "source": [
    "#### for...in...\n",
    "\n",
    "```\n",
    "for 变量 in 序列 :\n",
    "    语句\n",
    "else:\n",
    "    循环终止时执行的语句\n",
    "    \n",
    "循环完成后的语句\n",
    "```\n",
    "序列可以是列表, 元组, 也可以由`range()`函数产生."
   ]
  },
  {
   "cell_type": "code",
   "execution_count": null,
   "metadata": {},
   "outputs": [],
   "source": [
    "x = range(5)\n",
    "for i in x:\n",
    "    print(i)\n"
   ]
  },
  {
   "cell_type": "code",
   "execution_count": null,
   "metadata": {},
   "outputs": [],
   "source": [
    "for i in range(10,15,2):\n",
    "    print(i)"
   ]
  },
  {
   "cell_type": "code",
   "execution_count": null,
   "metadata": {},
   "outputs": [],
   "source": [
    "for i in range(10,5,-2):\n",
    "    print(i)"
   ]
  },
  {
   "cell_type": "markdown",
   "metadata": {},
   "source": [
    "- else 子句在循环终止时执行"
   ]
  },
  {
   "cell_type": "code",
   "execution_count": null,
   "metadata": {},
   "outputs": [],
   "source": [
    "for i in [3,2,1]:\n",
    "    print(i)\n",
    "else:\n",
    "    print('OK')\n",
    "print('----')"
   ]
  },
  {
   "cell_type": "markdown",
   "metadata": {},
   "source": [
    "- break 语句 : 跳出 for 或 while 循环\n",
    "- continue 语句: 跳出当前循环. 执行下一次循环\n",
    "- pass 语句: 仅占语句位, 不做什么"
   ]
  },
  {
   "cell_type": "markdown",
   "metadata": {},
   "source": [
    "### 函数\n",
    "\n",
    "```\n",
    "def 函数名(参数表):\n",
    "    函数体\n",
    "    \n",
    "```"
   ]
  },
  {
   "cell_type": "code",
   "execution_count": null,
   "metadata": {},
   "outputs": [],
   "source": [
    "def myhello():\n",
    "    print('My hello')\n",
    "    \n",
    "# 调用\n",
    "myhello()"
   ]
  },
  {
   "cell_type": "markdown",
   "metadata": {},
   "source": [
    "计算\n",
    "$$\n",
    "y=\\mathrm{mysum}(N)=\\sum_{i=0}^{N} i\n",
    "=0+1+2+\\cdots+N\n",
    "$$"
   ]
  },
  {
   "cell_type": "code",
   "execution_count": null,
   "metadata": {
    "code_folding": []
   },
   "outputs": [],
   "source": [
    "def mysum(N):\n",
    "    sum=0\n",
    "    for k in range(N+1):\n",
    "        sum=sum+k\n",
    "    return sum\n",
    "\n",
    "# 调用\n",
    "mysum(100)  "
   ]
  },
  {
   "cell_type": "markdown",
   "metadata": {},
   "source": [
    "阶乘\n",
    "$$\n",
    "\\mathrm{fact}(n)= n! \\triangleq  \\prod_1^N n\n",
    "$$"
   ]
  },
  {
   "cell_type": "code",
   "execution_count": null,
   "metadata": {},
   "outputs": [],
   "source": [
    "def fact(n):\n",
    "    a = 1\n",
    "    for i in range(1, n+1):\n",
    "        a = a*i\n",
    "    return a\n",
    "\n",
    "print(\"product = \" ,fact(100))"
   ]
  },
  {
   "cell_type": "markdown",
   "metadata": {},
   "source": [
    "### 编写简单的模块\n",
    "\n",
    "每一个 Python 程序同时也是一个模块。只需要保证它以 .py 为扩展名即可。在模块(py文件)中编写函数.\n",
    "\n",
    "例如, 编写如下代码并保存为`mymodule.py`.\n",
    "\n",
    "- (可用任意文本编辑工具, 如记事本, 或notepad++编辑器等).\n",
    "- 如要在Jupyter中调用,要将mymodule.py放在Jupyter编辑的当前文件目录下.\n",
    "- 在Jupyter中, 可用魔法命令`%load 文件名`调入代码查看. 如下.\n",
    "\n",
    "例如, 模块`mymodule.py`中定义了两个函数`fun1`和`fun2`.\n"
   ]
  },
  {
   "cell_type": "code",
   "execution_count": null,
   "metadata": {
    "code_folding": [
     1
    ]
   },
   "outputs": [],
   "source": [
    "# %load mymodule.py\n",
    "# mymodule.py\n",
    "def fun1():\n",
    "    \"\"\"\n",
    "    function fun1()\n",
    "    HELP INFO\n",
    "    \"\"\"\n",
    "    print('Hi, this is fun1() called.')\n",
    "\n",
    "\n",
    "def fun2():\n",
    "    \"\"\"\n",
    "    function fun2()\n",
    "    HELP INFO\n",
    "    \"\"\"\n",
    "    print('Hi, this is fun2() called.')\n",
    "\n",
    "\n",
    "__version__ = '0.1'"
   ]
  },
  {
   "cell_type": "markdown",
   "metadata": {},
   "source": [
    "在新代码中引用该模块, 用 `import 文件名(不用扩展名)`引入模块, 并用\n",
    "```\n",
    "模块名.函数名\n",
    "```\n",
    "来调用函数. 即:"
   ]
  },
  {
   "cell_type": "code",
   "execution_count": 14,
   "metadata": {
    "scrolled": true
   },
   "outputs": [
    {
     "name": "stdout",
     "output_type": "stream",
     "text": [
      "Hi, this is fun1() called.\n",
      "Hi, this is fun2() called.\n",
      "Help on function fun1 in module mymodule:\n",
      "\n",
      "fun1()\n",
      "    function fun1()\n",
      "    HELP INFO\n",
      "\n",
      "Help on function fun2 in module mymodule:\n",
      "\n",
      "fun2()\n",
      "    function fun2()\n",
      "    HELP INFO\n",
      "\n"
     ]
    }
   ],
   "source": [
    "import mymodule\n",
    "mymodule.fun1()\n",
    "mymodule.fun2()\n",
    "help(mymodule.fun1)\n",
    "help(mymodule.fun2)"
   ]
  },
  {
   "cell_type": "markdown",
   "metadata": {},
   "source": [
    "还可用\n",
    "```\n",
    "import 文件名 as 别名\n",
    "```\n",
    "来给模块取一个简化的调用别名, 这样就可用`别名.函数名`来调用. 例如:"
   ]
  },
  {
   "cell_type": "code",
   "execution_count": 15,
   "metadata": {},
   "outputs": [
    {
     "name": "stdout",
     "output_type": "stream",
     "text": [
      "Hi, this is fun1() called.\n",
      "Hi, this is fun2() called.\n",
      "Help on function fun1 in module mymodule:\n",
      "\n",
      "fun1()\n",
      "    function fun1()\n",
      "    HELP INFO\n",
      "\n",
      "Help on function fun2 in module mymodule:\n",
      "\n",
      "fun2()\n",
      "    function fun2()\n",
      "    HELP INFO\n",
      "\n"
     ]
    }
   ],
   "source": [
    "import mymodule as md\n",
    "md.fun1()\n",
    "md.fun2()\n",
    "help(md.fun1)\n",
    "help(md.fun2)"
   ]
  },
  {
   "cell_type": "markdown",
   "metadata": {},
   "source": [
    "还可用\n",
    "```\n",
    "from 模块名 import <*|函数名>\n",
    "```\n",
    "将模块中的全部(`*`)或指定的函数调入. 这样调入的函数使用时直接使用函数名即可. 这样比较方便, 但是函数名容易因为重名而冲突. 所以一般不这样用.\n",
    "\n",
    "例如:"
   ]
  },
  {
   "cell_type": "code",
   "execution_count": 16,
   "metadata": {
    "scrolled": true
   },
   "outputs": [
    {
     "name": "stdout",
     "output_type": "stream",
     "text": [
      "Hi, this is fun1() called.\n",
      "Hi, this is fun2() called.\n",
      "Help on function fun1 in module mymodule:\n",
      "\n",
      "fun1()\n",
      "    function fun1()\n",
      "    HELP INFO\n",
      "\n",
      "Help on function fun2 in module mymodule:\n",
      "\n",
      "fun2()\n",
      "    function fun2()\n",
      "    HELP INFO\n",
      "\n"
     ]
    }
   ],
   "source": [
    "from mymodule import *\n",
    "fun1()\n",
    "fun2()\n",
    "help(fun1)\n",
    "help(fun2)"
   ]
  },
  {
   "cell_type": "markdown",
   "metadata": {},
   "source": [
    "出于效率原因（导入必须找到文件，将其编译成字节码，并且运行代码, 如上编译成字节码文件`mymodule.cpython-37.pyc`），Python shell 在每次会话中，只对每个模块导入一次。\n",
    "\n",
    "这可能使调试不方便. 可采用模块`importlib`中的`reload`方法. 如\n",
    "\n",
    "```python\n",
    "from importlib import reload\n",
    "import mymodule\n",
    "reload(mymodule)\n",
    "....\n",
    "```"
   ]
  },
  {
   "cell_type": "markdown",
   "metadata": {},
   "source": [
    "### 关于package(包)简介\n",
    "\n",
    "- Package是一种Python模块的集合. 从文件组织形式上看，包就是一个文件夹，里面放着各种模块（.py文件），也可以有子文件夹（子包）。\n",
    "\n",
    "- 包名构建了一个Python模块的命名空间。比如，模块名A.B表示A包中名为B的子模块。这种使用加点的模块名可以让你写的软件包里面的模块名称和其它软件包里面的模块名称一样，但又不相互冲突。\n",
    "\n",
    "- 包是指一个包含模块与一个特殊的 __init__.py 文件的文件夹，后者向 Python 表明这一文件夹是特别的，因为其包含了 Python 模块。\n",
    "\n",
    "- 如创建一个名为“world”的包，其中还包含着 “asia”、“africa”等其它子包，同时这些子包都包含了诸如“india”、 “madagascar”等模块。\n",
    "\n",
    "下面就是构建出的文件夹的结构：\n",
    "```\n",
    "- <some folder present in the sys.path>/\n",
    "    - world/\n",
    "        - __init__.py\n",
    "        - asia/\n",
    "            - __init__.py\n",
    "            - india/\n",
    "                - __init__.py\n",
    "                - foo.py\n",
    "        - africa/\n",
    "            - __init__.py\n",
    "            - madagascar/\n",
    "                - __init__.py\n",
    "                - bar.py\n",
    "```\n",
    "\n",
    "包是一种能够方便地分层组织模块的方式。\n",
    "如同函数是程序中的可重用部分那般，模块是一种可重用的程序。包是用以组织模块的另一种层次结构。"
   ]
  },
  {
   "cell_type": "markdown",
   "metadata": {},
   "source": [
    "- 包是模块的一种形式，包的本质就是一个含有__init__.py的文件的文件夹\n",
    "- 为什么要有包？\n",
    "\n",
    ">  模块的第一个版本只有10个功能，但是未来在扩展版本的时候，模块名和用法应该最好不要去修改，但是这只是对使用者友好，而由于版本扩展，文件越来越大，模块设计者对模块的管理，维护会越来越复杂，因此我们可以使用包来扩展模块的功能\n",
    "\n",
    "- 包被导入的时候发生了三件事\n",
    "\n",
    "> 1. 打开aaa文件夹下的__init__.py文件\n",
    "> 2. 由于包是一个文件夹，无法执行包，因此执行包下的__init__.py文件，将执行过程中产生的名字 存放于包名称空间中（即包名称空间中存放的名字都是来自于init.py）\n",
    "> 3. 在当前执行文件中拿到一个名字aaa，aaa是指向包的名称空间的\n",
    "\n",
    "- 导入模块发生的三件事\n",
    "\n",
    "> 1. 创建一个模块的名称空间\n",
    "> 2. 执行py文件，将执行过程中产生的名字存放于名称空间中\n",
    "> 3. 在当前执行文件中拿到一个名字aaa，aaa是指向包的名称空间的\n",
    "\n",
    "- 相对导入，绝对导入\n",
    "\n",
    "> 1. 绝对导入\n",
    "\n",
    "```python\n",
    "# aaa/__init__.py\n",
    "\n",
    "from aaa.m1 import func1\n",
    "from aaa.m2 import func2\n",
    "```\n",
    "\n",
    "> 2. 相对导入\n",
    "\n",
    "```python\n",
    "from .m1 import func1\n",
    "from .m2 import func2\n",
    "```"
   ]
  },
  {
   "cell_type": "markdown",
   "metadata": {},
   "source": [
    "## Python自带的数学函数\n",
    "\n",
    "```\n",
    "1.基本函数\n",
    "\n",
    "求最大整数\tfloor(1.9)=1\n",
    "求最小整数\tceil(0.9)=1\n",
    "整除运算\tfmod(3,2)=1\n",
    "求和\tfsum(item)\n",
    "求阶乘\tfactorial(n)\n",
    "求最大的公约数\tgcd(4,6)=2\n",
    "求绝对值\tfabs(num)\n",
    "符号函数(把后数的符号给前数)\tcopysign(n1,n2)\n",
    "分割整数与小数\tmodf(1.5)=0.5， 1\n",
    "\n",
    "\n",
    "2.对数函数\n",
    "\n",
    "e为底数\tlog(n)\n",
    "其他数为底数\tlog(n, basic)\n",
    "2为底数\tlog2(n)\n",
    "10为底数\tlog10(n)\n",
    "求次幂\tpow(x,y)\n",
    "求根号\tsqrt(n)\n",
    "\n",
    "3.三角函数\n",
    "\n",
    "正弦函数\tsin(x)\n",
    "余弦函数\tcos(x)\n",
    "正切函数\ttan(x)\n",
    "反正弦函数\tasin(x)\n",
    "反余弦函数\tacos(x)\n",
    "反正切函数\taten(x)\n",
    "欧几里得范数（斜边）\thypot(3,4)=5\n",
    "\n",
    "4.角度的切换\n",
    "\n",
    "弧度转为角度\tdegrees(弧度）\n",
    "角度转为弧度\tradians(角度)\n",
    "5.双曲函数\n",
    "\n",
    "正弦双曲函数\tsinh(x)\n",
    "余弦双曲函数\tcosh(x)\n",
    "正切双曲函数\ttanh(x)\n",
    "反正弦双曲函数\tasin(x)\n",
    "反余弦双曲函数\tacos(x)\n",
    "反正切双曲函数\tatanh(x)\n",
    "\n",
    "6.math定义的常数\n",
    "\n",
    "pi\tπ = 3.141592 \n",
    "e\te = 2.718281 \n",
    "tau\tτ = 6.283185\n",
    "inf\t无穷大\n",
    "nan\t非数字\n",
    "```\n",
    "\n",
    "```\n",
    "abs(x)\t 求绝对值或复数的模\n",
    "complex([real[, imag]])\t 创建一个复数\n",
    "divmod(a, b)\t分别取商和余数\n",
    "float([x])\t 将一个字符串或数转换为浮点数。如果无参数将返回0.0\n",
    "int([x[, base]])\t 将一个字符转换为int类型，base表示进制\n",
    "long([x[, base]])\t 将一个字符转换为long类型\n",
    "pow(x, y[, z]) \t 返回x的y次幂\n",
    "range([start], stop[, step])\t 生一个序列，默认从0开始\n",
    "round(x[, n])\t 四舍五入\n",
    "sum(iterable[, start])\t 对集合求和\n",
    "oct(x)\t 将一个数字转化为8进制\n",
    "hex(x)\t 将整数x转换为16进制字符串\n",
    "chr(i)\t 返回整数i对应的ASCII字符\n",
    "bin(x)\t 将整数x转换为二进制字符串\n",
    "bool([x])\t 将x转换为Boolean类型\n",
    "```\n",
    "\n",
    "例如:"
   ]
  },
  {
   "cell_type": "code",
   "execution_count": 16,
   "metadata": {},
   "outputs": [
    {
     "name": "stdout",
     "output_type": "stream",
     "text": [
      "floor(1.9)= 1\n",
      "ceil(1.9)= 2\n",
      "sin(pi/2)= 1.0\n",
      "log2(256)= 8.0\n",
      "bin(15)= 0b1111\n",
      "sum(range(101))= 5050\n"
     ]
    }
   ],
   "source": [
    "from math import *\n",
    "print('floor(1.9)=', floor(1.9))\n",
    "print('ceil(1.9)=', ceil(1.9))\n",
    "print('sin(pi/2)=', sin(pi / 2))\n",
    "print('log2(256)=', log2(256))\n",
    "print('bin(15)=', bin(15))\n",
    "print('sum(range(101))=',sum(range(101)))"
   ]
  },
  {
   "cell_type": "markdown",
   "metadata": {},
   "source": [
    "## 基础计算\n",
    "\n",
    "### 调入 numpy 计算包\n",
    "\n",
    "- 标准引入方法 `import numpy as np`\n",
    "- 调用 `np.funcname(....)`\n",
    "- 用 `array` 建立数组\n",
    "\n",
    "#### array, print"
   ]
  },
  {
   "cell_type": "code",
   "execution_count": null,
   "metadata": {},
   "outputs": [],
   "source": []
  },
  {
   "cell_type": "code",
   "execution_count": null,
   "metadata": {},
   "outputs": [],
   "source": [
    "A = np.array([1,2,3])\n",
    "print(\"A=\",A)\n",
    "print(\"A+A=\",A+A)\n",
    "print(\"A-1=\",A-1)\n",
    "print(\"A*A=\",A*A) # 对应元素相乘\n",
    "print(\"A/A=\",A/A)"
   ]
  },
  {
   "cell_type": "markdown",
   "metadata": {},
   "source": [
    "#### reshape\n",
    "\n",
    "- 用 `reshape` 可将行变为列"
   ]
  },
  {
   "cell_type": "code",
   "execution_count": null,
   "metadata": {},
   "outputs": [],
   "source": [
    "A=A.reshape(3,1)\n",
    "print(A)\n",
    "s=np.size(A)\n",
    "print(\"np.size(A)=\",s)"
   ]
  },
  {
   "cell_type": "markdown",
   "metadata": {},
   "source": [
    "- 可以在建立数组时链式调用reshape\n",
    "- reshape 是以行优先。（与matlab不同）"
   ]
  },
  {
   "cell_type": "code",
   "execution_count": null,
   "metadata": {},
   "outputs": [],
   "source": [
    "B = np.array([1, 2, 3, 4, 5, 6]).reshape(2,3)\n",
    "print(B)"
   ]
  },
  {
   "cell_type": "code",
   "execution_count": null,
   "metadata": {},
   "outputs": [],
   "source": [
    "print(B.reshape(3,2))"
   ]
  },
  {
   "cell_type": "markdown",
   "metadata": {},
   "source": [
    "#### shape 获得数组大小"
   ]
  },
  {
   "cell_type": "code",
   "execution_count": null,
   "metadata": {},
   "outputs": [],
   "source": [
    "x=B.shape\n",
    "print(x)"
   ]
  },
  {
   "cell_type": "code",
   "execution_count": null,
   "metadata": {},
   "outputs": [],
   "source": [
    "# 直接建立二维数组\n",
    "A=np.array([[1,2,3],\n",
    "          [4,5,6],\n",
    "          [7,8,9]])\n",
    "A.shape # A 是 3×3 的二维数组"
   ]
  },
  {
   "cell_type": "markdown",
   "metadata": {},
   "source": [
    "#### size 获得数组元素个数\n"
   ]
  },
  {
   "cell_type": "code",
   "execution_count": null,
   "metadata": {},
   "outputs": [],
   "source": [
    "print(A.size)"
   ]
  },
  {
   "cell_type": "markdown",
   "metadata": {},
   "source": [
    "#### shape 也可数组形状\n",
    "\n",
    "- shape 是修改本数组形状的。\n",
    "- reshape 则可修改数组形状后赋值一个新数组。"
   ]
  },
  {
   "cell_type": "code",
   "execution_count": null,
   "metadata": {},
   "outputs": [],
   "source": [
    "A.shape=[9,1]\n",
    "print(A)"
   ]
  },
  {
   "cell_type": "markdown",
   "metadata": {},
   "source": [
    "####  数组的共享性\n",
    "\n",
    "- 数组索引从0开始，与C相同，但与matlab不同。\n",
    "- 数组的索引用`[ ]`, 如 b 的第一个元素就是 `b[0]`"
   ]
  },
  {
   "cell_type": "code",
   "execution_count": null,
   "metadata": {},
   "outputs": [],
   "source": [
    "a=np.array([1,2,3])\n",
    "b=a.reshape(3,1) # b 与 a 共享内存\n",
    "#b[0]=0 # 向 b 的第一个元素赋值\n",
    "#a #则 a 数组也改变了"
   ]
  },
  {
   "cell_type": "markdown",
   "metadata": {},
   "source": [
    "### 创建数组"
   ]
  },
  {
   "cell_type": "markdown",
   "metadata": {},
   "source": [
    "#### arange 和 linspace\n",
    "\n",
    "- arange函数通过指定**开始值、终值和步长**来创建一维数组，注意数组不包括终值。\n",
    "- linspace函数通过指定**开始值、终值和元素个数**来创建一维数组，可以通过endpoint关键字指定是否包括终值，缺省设置是包括终值。\n",
    "\n"
   ]
  },
  {
   "cell_type": "code",
   "execution_count": null,
   "metadata": {},
   "outputs": [],
   "source": [
    "np.arange(0,1,0.1)"
   ]
  },
  {
   "cell_type": "code",
   "execution_count": null,
   "metadata": {},
   "outputs": [],
   "source": [
    "# 步长可以为负\n",
    "np.arange(10,1,-2)"
   ]
  },
  {
   "cell_type": "code",
   "execution_count": null,
   "metadata": {},
   "outputs": [],
   "source": [
    "np.linspace(0, 1, 7)"
   ]
  },
  {
   "cell_type": "code",
   "execution_count": null,
   "metadata": {},
   "outputs": [],
   "source": [
    "np.linspace(0, 1, 7, endpoint=False)"
   ]
  },
  {
   "cell_type": "markdown",
   "metadata": {},
   "source": [
    "#### logspace\n",
    "- logspace函数和linspace类似，不过它创建等比数列。"
   ]
  },
  {
   "cell_type": "code",
   "execution_count": null,
   "metadata": {},
   "outputs": [],
   "source": [
    "# 产生1(10^0)到100(10^2)、有10个元素的等比数列\n",
    "np.logspace(0, 2, 10)"
   ]
  },
  {
   "cell_type": "markdown",
   "metadata": {},
   "source": [
    "#### 数组中元素的任意抽取"
   ]
  },
  {
   "cell_type": "code",
   "execution_count": null,
   "metadata": {},
   "outputs": [],
   "source": [
    "A=np.arange(1,10,1)\n",
    "A"
   ]
  },
  {
   "cell_type": "code",
   "execution_count": null,
   "metadata": {},
   "outputs": [],
   "source": [
    "B=A[[1,3,5,8]]\n",
    "B"
   ]
  },
  {
   "cell_type": "code",
   "execution_count": null,
   "metadata": {},
   "outputs": [],
   "source": [
    "# 下桓为负表示倒数\n",
    "B = A[[1, -1, -2]]\n",
    "B"
   ]
  },
  {
   "cell_type": "markdown",
   "metadata": {},
   "source": [
    "#### 数组相加的问题\n",
    "\n",
    "Python中允许行向量与列向量加。（注意，这不是线性代数的加法，但Python可以）\n",
    "\n",
    "$$\n",
    "\\left( \\begin{array}{c}\n",
    "\t1\\\\\n",
    "\t2\\\\\n",
    "\t3\\\\\n",
    "\\end{array} \\right) \\ +\n",
    "\\left( \\begin{matrix}\n",
    "\t1&\t\t2&\t\t3\\\\\n",
    "\\end{matrix} \\right) =\\left( \\begin{matrix}\n",
    "\t2&\t\t3&\t\t4\\\\\n",
    "\t3&\t\t4&\t\t5\\\\\n",
    "\t4&\t\t5&\t\t6\\\\\n",
    "\\end{matrix} \\right) \n",
    "$$\n",
    "相当于向量扩展后成为网维度的矩阵加法。\n",
    "$$\n",
    "\\left( \\begin{matrix}\n",
    "\t1&\t\t1&\t\t1\\\\\n",
    "\t2&\t\t2&\t\t2\\\\\n",
    "\t3&\t\t3&\t\t3\\\\\n",
    "\\end{matrix} \\right) +\\left( \\begin{matrix}\n",
    "\t1&\t\t2&\t\t3\\\\\n",
    "\t1&\t\t2&\t\t3\\\\\n",
    "\t1&\t\t2&\t\t3\\\\\n",
    "\\end{matrix} \\right) =\\left( \\begin{matrix}\n",
    "\t2&\t\t3&\t\t4\\\\\n",
    "\t3&\t\t4&\t\t5\\\\\n",
    "\t4&\t\t5&\t\t6\\\\\n",
    "\\end{matrix} \\right) \n",
    "$$"
   ]
  },
  {
   "cell_type": "code",
   "execution_count": null,
   "metadata": {},
   "outputs": [],
   "source": [
    "A = np.array([1, 2, 3])\n",
    "A.shape = 3, 1\n",
    "\n",
    "B = np.array([1, 2, 3])\n",
    "A + B"
   ]
  },
  {
   "cell_type": "markdown",
   "metadata": {},
   "source": [
    "$$\n",
    "\\left( \\begin{array}{c}\n",
    "\t1\\\\\n",
    "\t2\\\\\n",
    "\t3\\\\\n",
    "\\end{array} \\right) +2.1=\n",
    "\\left( \\begin{array}{c}\n",
    "\t3.1\\\\\n",
    "\t4.1\\\\\n",
    "\t5.1\\\\\n",
    "\\end{array} \\right) \n",
    "$$"
   ]
  },
  {
   "cell_type": "code",
   "execution_count": null,
   "metadata": {},
   "outputs": [],
   "source": [
    "A=np.array([1,2,3]).reshape(3,1)\n",
    "A+2.1"
   ]
  },
  {
   "cell_type": "markdown",
   "metadata": {},
   "source": [
    "### 测定程序段的执行时间\n",
    "\n",
    "- matlab中用tic和toc来完成。\n",
    "- 取得当前时间，是函数`time.perf_counter()`， 需 `import time `"
   ]
  },
  {
   "cell_type": "code",
   "execution_count": null,
   "metadata": {},
   "outputs": [],
   "source": [
    "import time\n",
    "import math\n",
    "import numpy as np\n",
    "\n",
    "x = [i * 0.001 for i in range(1000000)]\n",
    "start = time.perf_counter() # 计时开始\n",
    "\n",
    "for i, t in enumerate(x):\n",
    "    x[i] = math.sin(t)\n",
    "print(\"math.sin:\", time.perf_counter() - start, \"秒\")"
   ]
  },
  {
   "cell_type": "code",
   "execution_count": null,
   "metadata": {},
   "outputs": [],
   "source": []
  }
 ],
 "metadata": {
  "kernelspec": {
   "display_name": "Python 3",
   "language": "python",
   "name": "python3"
  },
  "language_info": {
   "codemirror_mode": {
    "name": "ipython",
    "version": 3
   },
   "file_extension": ".py",
   "mimetype": "text/x-python",
   "name": "python",
   "nbconvert_exporter": "python",
   "pygments_lexer": "ipython3",
   "version": "3.7.4"
  },
  "toc": {
   "base_numbering": 1,
   "nav_menu": {},
   "number_sections": true,
   "sideBar": true,
   "skip_h1_title": false,
   "title_cell": "Table of Contents",
   "title_sidebar": "Contents",
   "toc_cell": false,
   "toc_position": {
    "height": "calc(100% - 180px)",
    "left": "10px",
    "top": "150px",
    "width": "210.55px"
   },
   "toc_section_display": true,
   "toc_window_display": true
  }
 },
 "nbformat": 4,
 "nbformat_minor": 2
}
